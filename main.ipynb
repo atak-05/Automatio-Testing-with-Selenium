{
 "cells": [
  {
   "cell_type": "code",
   "execution_count": 78,
   "metadata": {},
   "outputs": [],
   "source": [
    "from playsound import playsound\n",
    "from gtts import gTTS\n",
    "import speech_recognition as sr\n",
    "\n",
    "import random"
   ]
  },
  {
   "cell_type": "code",
   "execution_count": 79,
   "metadata": {},
   "outputs": [],
   "source": [
    "import os\n",
    "def speak(string):\n",
    "    tts= gTTS(text=string, lang=\"tr\")\n",
    "    file1 = \"answer\"+str(random.randint(0,10000000000000000000000))+ \".mp3\"\n",
    "    tts.save(file1)\n",
    "    playsound(sound = file1)\n"
   ]
  },
  {
   "cell_type": "code",
   "execution_count": 80,
   "metadata": {},
   "outputs": [],
   "source": [
    "# speak(\"Dışarıı\")"
   ]
  },
  {
   "cell_type": "code",
   "execution_count": 81,
   "metadata": {},
   "outputs": [],
   "source": [
    "def save_voice():\n",
    "    r = sr.Recognizer()\n",
    "    \n",
    "    with sr.Microphone() as source:\n",
    "        voice = r.listen(source)\n",
    "        \n",
    "        talk_voice = \" \"\n",
    "        try :\n",
    "            talk_voice = r.recognize_google(voice, language=\"Tr-tr\")\n",
    "            print(talk_voice)\n",
    "        except Exception as e:\n",
    "            speak(\"Anlamadım\")\n",
    "    return talk_voice"
   ]
  },
  {
   "cell_type": "code",
   "execution_count": 84,
   "metadata": {},
   "outputs": [
    {
     "name": "stdout",
     "output_type": "stream",
     "text": [
      "nasılsın\n"
     ]
    },
    {
     "name": "stderr",
     "output_type": "stream",
     "text": [
      "\n",
      "    Error 263 for command:\n",
      "        close answer741498726201593929986.mp3\n",
      "    Bu, kaydedilmiş bir  MCI aygıtı değil.\n",
      "Failed to close the file: answer741498726201593929986.mp3\n"
     ]
    },
    {
     "name": "stdout",
     "output_type": "stream",
     "text": [
      "Nasılsın Nasılsın\n",
      "nasılsın\n",
      "müsait\n"
     ]
    },
    {
     "name": "stderr",
     "output_type": "stream",
     "text": [
      "\n",
      "    Error 263 for command:\n",
      "        open answer5016522333971815408136.mp3\n",
      "    Bu, kaydedilmiş bir  MCI aygıtı değil.\n",
      "\n",
      "    Error 263 for command:\n",
      "        close answer5016522333971815408136.mp3\n",
      "    Bu, kaydedilmiş bir  MCI aygıtı değil.\n",
      "Failed to close the file: answer5016522333971815408136.mp3\n"
     ]
    },
    {
     "ename": 