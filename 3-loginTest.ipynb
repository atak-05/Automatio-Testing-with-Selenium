{
 "cells": [
  {
   "attachments": {},
   "cell_type": "markdown",
   "metadata": {},
   "source": [
    "### LOGIN TEST WITH SELENIUM\n"
   ]
  },
  {
   "cell_type": "code",
   "execution_count": 30,
   "metadata": {},
   "outputs": [],
   "source": [
    "from playsound import playsound\n",
    "from gtts import gTTS\n",
    "import speech_recognition as sr\n",
    "from selenium import webdriver\n",
    "from selenium.webdriver.chrome.service import Service\n",
    "import random\n",
    "from selenium.webdriver.common.by import By\n",
    "from selenium.webdriver import Keys"
   ]
  },
  {
   "cell_type": "code",
   "execution_count": 31,
   "metadata": {},
   "outputs": [],
   "source": [
    "service = Service(\"./chromedriver.exe\")\n",
    "driver = webdriver.Chrome(service=service)\n",
    "#driver.maximize_window()"
   ]
  },
  {
   "attachments": {},
   "cell_type": "markdown",
   "metadata": {},
   "source": [
    "**TEST AUTOMATİON**\n",
    ">1. SORU: Test beklentileri karşılıyor mu? Positive test\n",
    ">2. SORU: Istenmeyen durumu testi dogru çalışıyor mu ? Negative Test\n"
   ]
  },
  {
   "attachments": {},
   "cell_type": "markdown",
   "metadata": {},
   "source": [
    "**Test Cases** \n",
    "* login page  will open in Browser \"[link login_page](https://the-internet.herokuapp.com/login)\"\n",
    "* filled username\n",
    "* filled password\n",
    "* click on the login button\n",
    "> 1. Invalid username  : Your username is invalid,\n",
    "> 2. Invalid password  : Your password is invalid,\n",
    "> 3. both input area (username and password) valid : You logged into a secure area!  secure was into link ! Opened page into secure "
   ]
  },
  {
   "attachments": {},
   "cell_type": "markdown",
   "metadata": {},
   "source": [
    "* Wrong Username\n"
   ]
  },
  {
   "cell_type": "code",
   "execution_count": 28,
   "metadata": {},
   "outputs": [
    {
     "name": "stdout",
     "output_type": "stream",
     "text": [
      "wrong username case is working\n"
     ]
    }
   ],
   "source": [
    "# login page  will open in Browser \"[link login_page](https://the-internet.herokuapp.com/login)\"\n",
    "\n",
    "driver.get(\"https://the-internet.herokuapp.com/login\")\n",
    "\n",
    "# filled username\n",
    "\n",
    "username_input = driver.find_element(By.ID, \"username\")\n",
    "username = username_input.send_keys(\"gizy\")\n",
    "\n",
    "# filled password\n",
    "\n",
    "password_input = driver.find_element(By.ID ,\"password\" )\n",
    "password =  password_input.send_keys (\"SuperSecretPassword!\")\n",
    "\n",
    "# find login button\n",
    "\n",
    "driver.find_element(By.CSS_SELECTOR, \"button.radius\").click()\n",
    "\n",
    "#find message\n",
    "\n",
    "message = driver.find_element(By.ID, \"flash\").text\n",
    "\n",
    "if \"Your username is invalid\" in message : \n",
    "    print(\"wrong username case is working\")\n",
    "else :\n",
    "    print(\" wrong username case is not working\")\n",
    "\n",
    "    "
   ]
  },
  {
   "attachments": {},
   "cell_type": "markdown",
   "metadata": {},
   "source": [
    "* Wrong Password Case\n"
   ]
  },
  {
   "cell_type": "code",
   "execution_count": 32,
   "metadata": {},
   "outputs": [
    {
     "name": "stdout",
     "output_type": "stream",
     "text": [
      "wrong password case\n"
     ]
    }
   ],
   "source": [
    "\n",
    "\n",
    "# login page  will open in Browser \"[link login_page](https://the-internet.herokuapp.com/login)\"\n",
    "\n",
    "driver.get(\"https://the-internet.herokuapp.com/login\")\n",
    "\n",
    "# filled username\n",
    "\n",
    "username_input = driver.find_element(By.ID, \"username\")\n",
    "username = username_input.send_keys(\"tomsmith\")\n",
    "\n",
    "# filled password\n",
    "\n",
    "password_input = driver.find_element(By.ID ,\"password\" )\n",
    "password =  password_input.send_keys (\"11111!\")\n",
    "\n",
    "# find login button\n",
    "\n",
    "driver.find_element(By.CSS_SELECTOR, \"button.radius\").click()\n",
    "\n",
    "#find message\n",
    "\n",
    "message = driver.find_element(By.ID, \"flash\").text\n",
    "\n",
    "    \n",
    "if \"Your password is invalid\" in message:\n",
    "    print(\"wrong password case is working\")\n",
    "else :\n",
    "    print(\"wrong password case is not working\")\n",
    "    "
   ]
  },
  {
   "cell_type": "code",
   "execution_count": 29,
   "metadata": {},
   "outputs": [],
   "source": [
    "driver.quit()"
   ]
  }
 ],
 "metadata": {
  "kernelspec": {
   "display_name": "env",
   "language": "python",
   "name": "python3"
  },
  "language_info": {
   "codemirror_mode": {
    "name": "ipython",
    "version": 3
   },
   "file_extension": ".py",
   "mimetype": "text/x-python",
   "name": "python",
   "nbconvert_exporter": "python",
   "pygments_lexer": "ipython3",
   "version": "3.10.10"
  },
  "orig_nbformat": 4
 },
 "nbformat": 4,
 "nbformat_minor": 2
}
