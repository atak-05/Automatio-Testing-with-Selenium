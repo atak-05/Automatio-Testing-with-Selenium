{
 "cells": [
  {
   "attachments": {},
   "cell_type": "markdown",
   "metadata": {},
   "source": [
    "## READ TEXT WITH SELENIUM\n"
   ]
  },
  {
   "cell_type": "code",
   "execution_count": 15,
   "metadata": {},
   "outputs": [],
   "source": [
    "from playsound import playsound\n",
    "from gtts import gTTS\n",
    "import speech_recognition as sr\n",
    "from selenium import webdriver\n",
    "from selenium.webdriver.chrome.service import Service\n",
    "import random\n",
    "from selenium.webdriver.common.by import By\n",
    "from selenium.webdriver import Keys"
   ]
  },
  {
   "cell_type": "code",
   "execution_count": 16,
   "metadata": {},
   "outputs": [],
   "source": [
    "service = Service(\"./chromedriver.exe\")\n",
    "driver = webdriver.Chrome(service=service)\n",
    "driver.maximize_window()"
   ]
  },
  {
   "cell_type": "code",
   "execution_count": 17,
   "metadata": {},
   "outputs": [
    {
     "name": "stdout",
     "output_type": "stream",
     "text": [
      "Mısırlı Osman Ağa Çeşmesi\n",
      "2000 CECAFA Kupası\n"
     ]
    }
   ],
   "source": [
    "driver.get(\"https://tr.wikipedia.org/wiki/Anasayfa\")\n",
    "field = driver.find_element(By.ID, \"mp-tfa\")\n",
    "field_text = field.text\n",
    "field_text = field_text.split(\",\")[0]\n",
    "print(field_text)\n",
    "field_2 = driver.find_element(By.ID, \"mf-tfp\")\n",
    "field_text2 = field_2.text\n",
    "field_text2 = field_text2.split(\",\")[0]\n",
    "print(field_text2)\n"
   ]
  },
  {
   "cell_type": "code",
   "execution_count": 18,
   "metadata": {},
   "outputs": [],
   "source": [
    "driver.quit()"
   ]
  }
 ],
 "metadata": {
  "kernelspec": {
   "display_name": "env",
   "language": "python",
   "name": "python3"
  },
  "language_info": {
   "codemirror_mode": {
    "name": "ipython",
    "version": 3
   },
   "file_extension": ".py",
   "mimetype": "text/x-python",
   "name": "python",
   "nbconvert_exporter": "python",
   "pygments_lexer": "ipython3",
   "version": "3.10.10"
  },
  "orig_nbformat": 4
 },
 "nbformat": 4,
 "nbformat_minor": 2
}
